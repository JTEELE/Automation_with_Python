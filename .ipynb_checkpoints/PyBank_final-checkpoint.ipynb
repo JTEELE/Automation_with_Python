{
 "cells": [
  {
   "cell_type": "code",
   "execution_count": 1,
   "id": "a90eed10-cabe-41d3-ad6f-82e52a9edec3",
   "metadata": {},
   "outputs": [],
   "source": [
    "# From the pathlib library, import the main class Path.\n",
    "from pathlib import Path\n",
    "import csv"
   ]
  },
  {
   "cell_type": "code",
   "execution_count": 2,
   "id": "a870b8e9-7a49-4099-aa47-a55150c5272c",
   "metadata": {},
   "outputs": [],
   "source": [
    "# Set path for the csv file and initialize variables.\n",
    "readdata = csv.reader(open(\"budget_data.csv\", 'r'))\n",
    "data = []\n",
    "data_profit = []\n",
    "profit = []\n",
    "total_month_count = 0\n",
    "total_months = 0\n",
    "total_difference = 0\n",
    "average = 0\n",
    "profit_loss= 0\n",
    "total = 0"
   ]
  },
  {
   "cell_type": "code",
   "execution_count": 3,
   "id": "bfbf4944-8002-4325-b271-ecd8d18ec768",
   "metadata": {},
   "outputs": [
    {
     "data": {
      "text/plain": [
       "['Date', 'Profit/Losses']"
      ]
     },
     "execution_count": 3,
     "metadata": {},
     "output_type": "execute_result"
    }
   ],
   "source": [
    "#Export raw data into 'data' list and omit the first line. \n",
    "for row in readdata:\n",
    "    data.append(row)\n",
    "data.pop(0)"
   ]
  },
  {
   "cell_type": "code",
   "execution_count": 4,
   "id": "ac84dc86-91bb-4fa7-bf38-a4e1353dfbfc",
   "metadata": {},
   "outputs": [],
   "source": [
    "#Calculate total months, total profit and append 'profit' list for further data analysis.\n",
    "for number in data:\n",
    "    total_month_count += 1\n",
    "    number = int(number[1])\n",
    "    profit_loss += number\n",
    "    profit_currency = \"${:,.2f}\".format(profit_loss)\n",
    "    data_profit.append(number)"
   ]
  },
  {
   "cell_type": "code",
   "execution_count": 5,
   "id": "559cfb5f-a3fc-4bdf-bd32-5537197826fe",
   "metadata": {},
   "outputs": [],
   "source": [
    "#Calculate the change in profit/loss in each line and append the profit list to complete final dataset for analysis.\n",
    "for i, v in enumerate(data_profit[:-1], start=1):\n",
    "    total_months = len(data_profit[1:])\n",
    "    diff = data_profit[i]-data_profit[i-1]\n",
    "    profit.append(diff)\n",
    "    total_difference += diff\n",
    "    average = total_difference / total_months\n",
    "    average_currency = \"${:,.2f}\".format(average)"
   ]
  },
  {
   "cell_type": "code",
   "execution_count": 6,
   "id": "15314f74-b75b-4e04-a561-72c8ac54a86c",
   "metadata": {},
   "outputs": [],
   "source": [
    "#Delete sales from 'data' list since the information is not used for final printed analysis. \n",
    "for sales in data:\n",
    "    del sales[1]"
   ]
  },
  {
   "cell_type": "code",
   "execution_count": 7,
   "id": "3210ee76-3dc4-4ee8-b85f-a8cec2531c9f",
   "metadata": {},
   "outputs": [],
   "source": [
    "#Define function to calculate maximum change in profits.\n",
    "def max_change():\n",
    "    largest_value = -1\n",
    "    largest_index= 0\n",
    "    for i, v in enumerate(zip(data[1:], profit)):\n",
    "        if v[1] > largest_value:\n",
    "            largest_value = v[1]\n",
    "            largest_index = v[0]\n",
    "    max_currency = \"${:,.2f}\".format(largest_value)\n",
    "    print(f\"Greatest Increase in Profits: {largest_index} {max_currency}\")"
   ]
  },
  {
   "cell_type": "code",
   "execution_count": 8,
   "id": "775e4694-130e-46b6-9f0a-1e0207bec91b",
   "metadata": {},
   "outputs": [],
   "source": [
    "#Define function to calculate minimum change in profits.\n",
    "def min_change():\n",
    "    smallest_value = -1\n",
    "    smallest_index= 0\n",
    "    for i, v in enumerate(zip(data[1:], profit)):\n",
    "        if v[1] < smallest_value:\n",
    "            smallest_value = v[1]\n",
    "            smallest_index = v[0]\n",
    "    min_currency = \"${:,.2f}\".format(smallest_value)\n",
    "    print(f\"Greatest Decrease in Profits: {smallest_index} {min_currency}\")"
   ]
  },
  {
   "cell_type": "code",
   "execution_count": 9,
   "id": "2d31056f-7209-49ad-9025-afe9a9de8975",
   "metadata": {},
   "outputs": [
    {
     "name": "stdout",
     "output_type": "stream",
     "text": [
      "Financial Analysis\n",
      "---------------------------\n",
      "Total Months 86\n",
      "Total: $38,382,578.00\n",
      "Average Change $-2,315.12\n",
      "Greatest Increase in Profits: ['Feb-2012'] $1,926,159.00\n",
      "Greatest Decrease in Profits: ['Sep-2013'] $-2,196,167.00\n"
     ]
    }
   ],
   "source": [
    "#Print Final Analysis. \n",
    "print(\"Financial Analysis\")\n",
    "print(\"---------------------------\")\n",
    "print(f\"Total Months {total_month_count}\")\n",
    "print(f\"Total: {profit_currency}\")\n",
    "print(f\"Average Change {average_currency}\")\n",
    "\n",
    "max_change()\n",
    "min_change()"
   ]
  }
 ],
 "metadata": {
  "kernelspec": {
   "display_name": "Python 3",
   "language": "python",
   "name": "python3"
  },
  "language_info": {
   "codemirror_mode": {
    "name": "ipython",
    "version": 3
   },
   "file_extension": ".py",
   "mimetype": "text/x-python",
   "name": "python",
   "nbconvert_exporter": "python",
   "pygments_lexer": "ipython3",
   "version": "3.8.8"
  }
 },
 "nbformat": 4,
 "nbformat_minor": 5
}
